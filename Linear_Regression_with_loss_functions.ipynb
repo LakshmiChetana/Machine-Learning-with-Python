{
  "nbformat": 4,
  "nbformat_minor": 0,
  "metadata": {
    "colab": {
      "name": "Linear Regression with loss functions.ipynb",
      "provenance": [],
      "authorship_tag": "ABX9TyPgLF1QHGDgwvS4eLQ3agsV",
      "include_colab_link": true
    },
    "kernelspec": {
      "name": "python3",
      "display_name": "Python 3"
    }
  },
  "cells": [
    {
      "cell_type": "markdown",
      "metadata": {
        "id": "view-in-github",
        "colab_type": "text"
      },
      "source": [
        "<a href=\"https://colab.research.google.com/github/LakshmiChetana/RS/blob/master/Linear_Regression_with_loss_functions.ipynb\" target=\"_parent\"><img src=\"https://colab.research.google.com/assets/colab-badge.svg\" alt=\"Open In Colab\"/></a>"
      ]
    },
    {
      "cell_type": "code",
      "metadata": {
        "id": "z930OcIsDpJM"
      },
      "source": [
        "import numpy as np\n",
        "import pandas as pd\n",
        "import matplotlib.pyplot as plt\n",
        "import seaborn as sns\n",
        "%matplotlib inline"
      ],
      "execution_count": 4,
      "outputs": []
    },
    {
      "cell_type": "code",
      "metadata": {
        "id": "3nruFc6qDszk",
        "outputId": "7db609ae-77bf-4b49-f697-fb255e89f1d3",
        "colab": {
          "base_uri": "https://localhost:8080/"
        }
      },
      "source": [
        "from google.colab import drive\n",
        "drive.mount('/content/drive')"
      ],
      "execution_count": 5,
      "outputs": [
        {
          "output_type": "stream",
          "text": [
            "Drive already mounted at /content/drive; to attempt to forcibly remount, call drive.mount(\"/content/drive\", force_remount=True).\n"
          ],
          "name": "stdout"
        }
      ]
    },
    {
      "cell_type": "code",
      "metadata": {
        "id": "aqGWTfihGT9U",
        "outputId": "a13e3f52-b6c1-4eef-a1ec-9a69a3bd682d",
        "colab": {
          "base_uri": "https://localhost:8080/",
          "height": 173
        }
      },
      "source": [
        "df=pd.read_csv('/content/drive/My Drive/dataset.csv')\n",
        "df"
      ],
      "execution_count": 7,
      "outputs": [
        {
          "output_type": "execute_result",
          "data": {
            "text/html": [
              "<div>\n",
              "<style scoped>\n",
              "    .dataframe tbody tr th:only-of-type {\n",
              "        vertical-align: middle;\n",
              "    }\n",
              "\n",
              "    .dataframe tbody tr th {\n",
              "        vertical-align: top;\n",
              "    }\n",
              "\n",
              "    .dataframe thead th {\n",
              "        text-align: right;\n",
              "    }\n",
              "</style>\n",
              "<table border=\"1\" class=\"dataframe\">\n",
              "  <thead>\n",
              "    <tr style=\"text-align: right;\">\n",
              "      <th></th>\n",
              "      <th>x</th>\n",
              "      <th>y</th>\n",
              "    </tr>\n",
              "  </thead>\n",
              "  <tbody>\n",
              "    <tr>\n",
              "      <th>0</th>\n",
              "      <td>3</td>\n",
              "      <td>4</td>\n",
              "    </tr>\n",
              "    <tr>\n",
              "      <th>1</th>\n",
              "      <td>2</td>\n",
              "      <td>1</td>\n",
              "    </tr>\n",
              "    <tr>\n",
              "      <th>2</th>\n",
              "      <td>4</td>\n",
              "      <td>3</td>\n",
              "    </tr>\n",
              "    <tr>\n",
              "      <th>3</th>\n",
              "      <td>0</td>\n",
              "      <td>1</td>\n",
              "    </tr>\n",
              "  </tbody>\n",
              "</table>\n",
              "</div>"
            ],
            "text/plain": [
              "   x  y\n",
              "0  3  4\n",
              "1  2  1\n",
              "2  4  3\n",
              "3  0  1"
            ]
          },
          "metadata": {
            "tags": []
          },
          "execution_count": 7
        }
      ]
    },
    {
      "cell_type": "code",
      "metadata": {
        "id": "Jnhnx79UIF4P",
        "outputId": "47c4d4fb-2cf7-4fe0-ae96-0a557c30fc56",
        "colab": {
          "base_uri": "https://localhost:8080/"
        }
      },
      "source": [
        "from sklearn.linear_model import LinearRegression\n",
        "reg=LinearRegression()\n",
        "reg.fit(df.x.values.reshape(-1,1), df.y)"
      ],
      "execution_count": 10,
      "outputs": [
        {
          "output_type": "execute_result",
          "data": {
            "text/plain": [
              "LinearRegression(copy_X=True, fit_intercept=True, n_jobs=None, normalize=False)"
            ]
          },
          "metadata": {
            "tags": []
          },
          "execution_count": 10
        }
      ]
    },
    {
      "cell_type": "code",
      "metadata": {
        "id": "19XuQl2nIfGU",
        "outputId": "67875e85-e8c1-4856-caae-2c886d1b2310",
        "colab": {
          "base_uri": "https://localhost:8080/"
        }
      },
      "source": [
        "print(reg.intercept_)\n",
        "print(reg.coef_)\n",
        "y_hat_LR=reg.predict(df.x.values.reshape(-1,1))"
      ],
      "execution_count": 18,
      "outputs": [
        {
          "output_type": "stream",
          "text": [
            "0.7714285714285718\n",
            "[0.65714286]\n"
          ],
          "name": "stdout"
        }
      ]
    },
    {
      "cell_type": "code",
      "metadata": {
        "id": "W8Bci4RULTos",
        "outputId": "456aba27-49a0-465d-98fc-0a24413d0699",
        "colab": {
          "base_uri": "https://localhost:8080/"
        }
      },
      "source": [
        "from sklearn import linear_model\n",
        "reg_L1 = linear_model.Lasso(alpha=0.1)\n",
        "reg_L1.fit(df.x.values.reshape(-1,1), df.y)\n",
        "print(reg_L1.intercept_)\n",
        "print(reg_L1.coef_)\n",
        "y_hat_Lasso=reg_L1.predict(df.x.values.reshape(-1,1))"
      ],
      "execution_count": 19,
      "outputs": [
        {
          "output_type": "stream",
          "text": [
            "0.8742857142857143\n",
            "[0.61142857]\n"
          ],
          "name": "stdout"
        }
      ]
    },
    {
      "cell_type": "code",
      "metadata": {
        "id": "2OlnkE8HL4Pg",
        "outputId": "be6a424d-4821-43e8-d2be-3fea70a5f7c0",
        "colab": {
          "base_uri": "https://localhost:8080/"
        }
      },
      "source": [
        "from sklearn import linear_model\n",
        "reg_R1 = linear_model.Ridge(alpha=0.1)\n",
        "reg_R1.fit(df.x.values.reshape(-1,1), df.y)\n",
        "print(reg_R1.intercept_)\n",
        "print(reg_R1.coef_)\n",
        "y_hat_Ridge=reg_R1.predict(df.x.values.reshape(-1,1))"
      ],
      "execution_count": 20,
      "outputs": [
        {
          "output_type": "stream",
          "text": [
            "0.7881355932203389\n",
            "[0.64971751]\n"
          ],
          "name": "stdout"
        }
      ]
    },
    {
      "cell_type": "code",
      "metadata": {
        "id": "xyONtfqzNZDr",
        "outputId": "146febf6-0580-4d69-f386-664a8963ce72",
        "colab": {
          "base_uri": "https://localhost:8080/"
        }
      },
      "source": [
        "from sklearn.metrics import r2_score\n",
        "r=r2_score(df.y,y_hat_LR)\n",
        "rl=r2_score(df.y,y_hat_Lasso)\n",
        "rr=r2_score(df.y,y_hat_Ridge)\n",
        "print(r)\n",
        "print(rl)\n",
        "print(rr)\n"
      ],
      "execution_count": 22,
      "outputs": [
        {
          "output_type": "stream",
          "text": [
            "0.5597883597883597\n",
            "0.5570793650793651\n",
            "0.5597168875601001\n"
          ],
          "name": "stdout"
        }
      ]
    }
  ]
}